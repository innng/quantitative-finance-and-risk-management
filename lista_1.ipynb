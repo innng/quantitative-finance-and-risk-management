{
 "cells": [
  {
   "cell_type": "markdown",
   "metadata": {},
   "source": [
    "# Lista 1\n",
    "\n",
    "#### Aluna: Ingrid Rosselis\n",
    "#### Matrícula: 2016430936"
   ]
  },
  {
   "cell_type": "markdown",
   "metadata": {},
   "source": [
    "## Questão 1\n",
    "\n",
    "Considere uma ação cujo preco atual é $R\\$100$. Analistas financeiros concluíram que há duas possibilidades de preço ao final do próximo mês: $R\\$105$ e $R\\$95$, ambos cenários com probabilidade de $50\\%$. Existe a possibilidade de comprar uma opcão de compra desta ação com preço de exercício de $R\\$102$ ao final do mês. Atualmente a opção custa $R\\$1.60$.\n",
    "\n",
    "**a.** Considerando uma taxa livre de risco de $0\\%$ ao mês, você compraria esta opção? Por quê?"
   ]
  },
  {
   "cell_type": "markdown",
   "metadata": {},
   "source": [
    "Calcular valor justo da opção desconsiderando taxa livre de risco. Fazer short de uma opção:\n",
    "\n",
    "$portfolio = 0 (dinheiro\\ atual) + P(o,t) (preço\\ da\\ opção) - 100 * delta (valor\\ atual\\ da\\ ação\\ devido) + 100 * delta (dinheiro\\ em\\ caixa)$\n",
    "\n",
    "Se em t + 1 ação valer 105 --> exercemos a opção de compra a 102 e temos lucro na venda a 105 de 3 reais:\n",
    "\n",
    "$portfolio = - 105 * delta + 100 * delta + 3$\n",
    "\n",
    "Se em t + 1 ação valer 95 --> não exercemos a opção de compra:\n",
    "\n",
    "$portfolio = - 95 * delta + 100 * delta$\n",
    "\n",
    "Comparando 2 portfolios para encontrar delta, temos:\n",
    "\n",
    "$- 105 * delta + 100 * delta + 3 = - 95 * delta + 100 * delta$\n",
    "\n",
    "$- 105 * delta + 3 = - 95 * delta$\n",
    "\n",
    "$10 * delta = 3$\n",
    "\n",
    "$delta = 0.3$\n",
    "\n",
    "**Reposta:** Recalculando os portfolios percebe-se que a opção de compra deveria valer até $R\\$=1.50$ no mês atual para que ela contine, pelo menos, valendo o mesmo no próximo mês. Como a opção custa $R\\$=1.60$, eu não compraria a opção."
   ]
  },
  {
   "cell_type": "markdown",
   "metadata": {},
   "source": [
    "**b.** Se a taxa de livre de risco for $1\\%$ sua decisão mudaria?"
   ]
  },
  {
   "cell_type": "markdown",
   "metadata": {},
   "source": [
    "Não consegui fazer uma conta que considerei certa (usando a taxa de risco no valor final do portfolio, no valor do preço justo da opção e nos valores da ação para $t + 1$), mas todos os valores que gerei sugeriam um preço justo de opção ainda mais baixo, então minha escolha seria continuar não comprando."
   ]
  },
  {
   "cell_type": "markdown",
   "metadata": {},
   "source": [
    "## Questão 2\n",
    "\n",
    "Considere uma roleta em um cassino que possui números de 1 a 30.  Ao jogar nesta roleta, suponha que uma pessoa escolha um número ímpar e faça sua aposta. Se o crupiê girar a roleta e obtiver um número par, a pessoa perde todo o valor apostado. Se a bolinha parar em um número ímpar, mas diferente daquele escolhido, a pessoa perde metade do valor apostado. Caso a pessoa acerte o número sorteado, ela recebe 50 vezes o valor apostado. O mesmo raciocínio vale se a pessoa escolher um número par. \n",
    "\n",
    "Suponha  que esta pessoa possua um capital  disponível $M$, seja viciada em jogos e possua todo o tempo do mundo, isto é, está disposta a apostar na roleta infinitamente."
   ]
  },
  {
   "cell_type": "code",
   "execution_count": 1,
   "metadata": {},
   "outputs": [],
   "source": [
    "import numpy as np\n",
    "import matplotlib.pyplot as plt\n",
    "\n",
    "proportions = np.arange(0, 1.01, 0.01)"
   ]
  },
  {
   "cell_type": "markdown",
   "metadata": {},
   "source": [
    "**a.**  Qual porcentagem ideal de $M$ que ela deve apostar de forma a maximizar o retorno esperado deste jogo?  Qual é este retorno esperado?"
   ]
  },
  {
   "cell_type": "code",
   "execution_count": 2,
   "metadata": {},
   "outputs": [
    {
     "name": "stdout",
     "output_type": "stream",
     "text": [
      "Retorno esperado é 93.33% quando investir 100.00% de seu capital.\n"
     ]
    }
   ],
   "source": [
    "# dado M = 1, proporção do valor v\n",
    "# errar número e paridade: p = 15/30\n",
    "# errar número e acertar paridade: p = 14/30\n",
    "# acertar número e paridade: p = 1/30\n",
    "\n",
    "def ma(v):\n",
    "    return (15/30 * (1 - v) + (14/30 * 0.5 * v) + (1/30 * (50 * v + 1))) - 1\n",
    "\n",
    "ra = [ma(x) for x in proportions]\n",
    "\n",
    "print(\n",
    "    f\"Retorno esperado é {max(ra)*100:.2f}% \"\n",
    "    + f\"quando investir {proportions[ra.index(max(ra))]*100:.2f}% de seu capital.\"\n",
    ")"
   ]
  },
  {
   "cell_type": "markdown",
   "metadata": {},
   "source": [
    "**b.**  O que vai acontecer na prática se ela apostar a proporção obtida acima?"
   ]
  },
  {
   "cell_type": "code",
   "execution_count": 3,
   "metadata": {},
   "outputs": [
    {
     "name": "stdout",
     "output_type": "stream",
     "text": [
      "Retorno esperado se a pessoa investir 100% de seu capital será -100.00%.\n"
     ]
    }
   ],
   "source": [
    "def mg(v):\n",
    "    return (pow(1 - v, 15/30) * pow(0.5 * v, 14/30) * pow(50 * v + 1, 1/30)) -1 \n",
    "\n",
    "rg = [mg(x) for x in proportions]\n",
    "\n",
    "print(f\"Retorno esperado se a pessoa investir 100% de seu capital será {rg[-1]*100:.2f}%.\")"
   ]
  },
  {
   "cell_type": "markdown",
   "metadata": {},
   "source": [
    "**c.**  Qual é aproximadamente a proporção de $M$ que deve ser apostada repetidamente de forma a maximizar os lucros obtidos? \n",
    "\n",
    "Não é necessário resolver na letra **(c)** o problema de maximização, apenas achar um valor aproximado."
   ]
  },
  {
   "cell_type": "code",
   "execution_count": 4,
   "metadata": {},
   "outputs": [
    {
     "data": {
      "image/png": "[encoded data removed]",
      "text/plain": [
       "<Figure size 432x288 with 1 Axes>"
      ]
     },
     "metadata": {
      "needs_background": "light"
     },
     "output_type": "display_data"
    }
   ],
   "source": [
    "plt.plot(proportions, ra)\n",
    "plt.axhline(0, color='black')\n",
    "plt.plot(proportions, rg)\n",
    "\n",
    "plt.show()"
   ]
  },
  {
   "cell_type": "markdown",
   "metadata": {},
   "source": [
    "Pelo gráfico gerado, não é possível estimar uma porcentagem que maximizaria os lucros obtidos."
   ]
  },
  {
   "cell_type": "markdown",
   "metadata": {},
   "source": [
    "## Questão 3\n",
    "\n",
    "Considere os preços diários de todos os ativos disponibilizados em 2020 e, separadamente, em 2019 (do primeiro dia de 2019 ao primeiro dia de 2020). Calcule as correlações de cada ativo com o índice IBOV tanto em 2019 quanto em 2020."
   ]
  },
  {
   "cell_type": "code",
   "execution_count": 5,
   "metadata": {},
   "outputs": [
    {
     "data": {
      "text/html": [
       "<div>\n",
       "<style scoped>\n",
       "    .dataframe tbody tr th:only-of-type {\n",
       "        vertical-align: middle;\n",
       "    }\n",
       "\n",
       "    .dataframe tbody tr th {\n",
       "        vertical-align: top;\n",
       "    }\n",
       "\n",
       "    .dataframe thead th {\n",
       "        text-align: right;\n",
       "    }\n",
       "</style>\n",
       "<table border=\"1\" class=\"dataframe\">\n",
       "  <thead>\n",
       "    <tr style=\"text-align: right;\">\n",
       "      <th></th>\n",
       "      <th>IBOV</th>\n",
       "      <th>BOVA11</th>\n",
       "      <th>ABEV3</th>\n",
       "      <th>AZUL4</th>\n",
       "      <th>BTOW3</th>\n",
       "      <th>B3SA3</th>\n",
       "      <th>BBAS3</th>\n",
       "      <th>BBSE3</th>\n",
       "      <th>BRML3</th>\n",
       "      <th>BBDC3</th>\n",
       "      <th>...</th>\n",
       "      <th>SANB11</th>\n",
       "      <th>CSNA3</th>\n",
       "      <th>SULA11</th>\n",
       "      <th>SUZB3</th>\n",
       "      <th>TAEE11</th>\n",
       "      <th>TIMP3</th>\n",
       "      <th>TOTS3</th>\n",
       "      <th>USIM5</th>\n",
       "      <th>VALE3</th>\n",
       "      <th>WEGE3</th>\n",
       "    </tr>\n",
       "    <tr>\n",
       "      <th>Date</th>\n",
       "      <th></th>\n",
       "      <th></th>\n",
       "      <th></th>\n",
       "      <th></th>\n",
       "      <th></th>\n",
       "      <th></th>\n",
       "      <th></th>\n",
       "      <th></th>\n",
       "      <th></th>\n",
       "      <th></th>\n",
       "      <th></th>\n",
       "      <th></th>\n",
       "      <th></th>\n",
       "      <th></th>\n",
       "      <th></th>\n",
       "      <th></th>\n",
       "      <th></th>\n",
       "      <th></th>\n",
       "      <th></th>\n",
       "      <th></th>\n",
       "      <th></th>\n",
       "    </tr>\n",
       "  </thead>\n",
       "  <tbody>\n",
       "    <tr>\n",
       "      <th>2007-01-02</th>\n",
       "      <td>45382.61</td>\n",
       "      <td>0.0</td>\n",
       "      <td>2.40</td>\n",
       "      <td>0.0</td>\n",
       "      <td>61.20</td>\n",
       "      <td>0.0</td>\n",
       "      <td>10.00</td>\n",
       "      <td>0.0</td>\n",
       "      <td>0.0</td>\n",
       "      <td>6.14</td>\n",
       "      <td>...</td>\n",
       "      <td>0.0</td>\n",
       "      <td>6.37</td>\n",
       "      <td>0.0</td>\n",
       "      <td>0.0</td>\n",
       "      <td>2.06</td>\n",
       "      <td>9.25</td>\n",
       "      <td>2.43</td>\n",
       "      <td>14.70</td>\n",
       "      <td>20.51</td>\n",
       "      <td>0.0</td>\n",
       "    </tr>\n",
       "    <tr>\n",
       "      <th>2007-01-03</th>\n",
       "      <td>44445.29</td>\n",
       "      <td>0.0</td>\n",
       "      <td>2.39</td>\n",
       "      <td>0.0</td>\n",
       "      <td>60.35</td>\n",
       "      <td>0.0</td>\n",
       "      <td>9.82</td>\n",
       "      <td>0.0</td>\n",
       "      <td>0.0</td>\n",
       "      <td>6.07</td>\n",
       "      <td>...</td>\n",
       "      <td>0.0</td>\n",
       "      <td>6.17</td>\n",
       "      <td>0.0</td>\n",
       "      <td>0.0</td>\n",
       "      <td>2.12</td>\n",
       "      <td>8.88</td>\n",
       "      <td>2.52</td>\n",
       "      <td>14.19</td>\n",
       "      <td>19.50</td>\n",
       "      <td>0.0</td>\n",
       "    </tr>\n",
       "    <tr>\n",
       "      <th>2007-01-04</th>\n",
       "      <td>44019.77</td>\n",
       "      <td>0.0</td>\n",
       "      <td>2.39</td>\n",
       "      <td>0.0</td>\n",
       "      <td>62.46</td>\n",
       "      <td>0.0</td>\n",
       "      <td>10.18</td>\n",
       "      <td>0.0</td>\n",
       "      <td>0.0</td>\n",
       "      <td>6.09</td>\n",
       "      <td>...</td>\n",
       "      <td>0.0</td>\n",
       "      <td>6.02</td>\n",
       "      <td>0.0</td>\n",
       "      <td>0.0</td>\n",
       "      <td>2.10</td>\n",
       "      <td>8.49</td>\n",
       "      <td>2.52</td>\n",
       "      <td>14.02</td>\n",
       "      <td>19.19</td>\n",
       "      <td>0.0</td>\n",
       "    </tr>\n",
       "    <tr>\n",
       "      <th>2007-01-05</th>\n",
       "      <td>42245.16</td>\n",
       "      <td>0.0</td>\n",
       "      <td>2.35</td>\n",
       "      <td>0.0</td>\n",
       "      <td>58.88</td>\n",
       "      <td>0.0</td>\n",
       "      <td>9.74</td>\n",
       "      <td>0.0</td>\n",
       "      <td>0.0</td>\n",
       "      <td>5.85</td>\n",
       "      <td>...</td>\n",
       "      <td>0.0</td>\n",
       "      <td>5.85</td>\n",
       "      <td>0.0</td>\n",
       "      <td>0.0</td>\n",
       "      <td>2.06</td>\n",
       "      <td>8.16</td>\n",
       "      <td>2.46</td>\n",
       "      <td>13.30</td>\n",
       "      <td>18.38</td>\n",
       "      <td>0.0</td>\n",
       "    </tr>\n",
       "    <tr>\n",
       "      <th>2007-01-08</th>\n",
       "      <td>42829.93</td>\n",
       "      <td>0.0</td>\n",
       "      <td>2.39</td>\n",
       "      <td>0.0</td>\n",
       "      <td>58.28</td>\n",
       "      <td>0.0</td>\n",
       "      <td>9.96</td>\n",
       "      <td>0.0</td>\n",
       "      <td>0.0</td>\n",
       "      <td>6.03</td>\n",
       "      <td>...</td>\n",
       "      <td>0.0</td>\n",
       "      <td>5.95</td>\n",
       "      <td>0.0</td>\n",
       "      <td>0.0</td>\n",
       "      <td>2.08</td>\n",
       "      <td>8.10</td>\n",
       "      <td>2.42</td>\n",
       "      <td>13.43</td>\n",
       "      <td>19.07</td>\n",
       "      <td>0.0</td>\n",
       "    </tr>\n",
       "  </tbody>\n",
       "</table>\n",
       "<p>5 rows × 72 columns</p>\n",
       "</div>"
      ],
      "text/plain": [
       "                IBOV  BOVA11  ABEV3  AZUL4  BTOW3  B3SA3  BBAS3  BBSE3  BRML3  \\\n",
       "Date                                                                            \n",
       "2007-01-02  45382.61     0.0   2.40    0.0  61.20    0.0  10.00    0.0    0.0   \n",
       "2007-01-03  44445.29     0.0   2.39    0.0  60.35    0.0   9.82    0.0    0.0   \n",
       "2007-01-04  44019.77     0.0   2.39    0.0  62.46    0.0  10.18    0.0    0.0   \n",
       "2007-01-05  42245.16     0.0   2.35    0.0  58.88    0.0   9.74    0.0    0.0   \n",
       "2007-01-08  42829.93     0.0   2.39    0.0  58.28    0.0   9.96    0.0    0.0   \n",
       "\n",
       "            BBDC3  ...  SANB11  CSNA3  SULA11  SUZB3  TAEE11  TIMP3  TOTS3  \\\n",
       "Date               ...                                                       \n",
       "2007-01-02   6.14  ...     0.0   6.37     0.0    0.0    2.06   9.25   2.43   \n",
       "2007-01-03   6.07  ...     0.0   6.17     0.0    0.0    2.12   8.88   2.52   \n",
       "2007-01-04   6.09  ...     0.0   6.02     0.0    0.0    2.10   8.49   2.52   \n",
       "2007-01-05   5.85  ...     0.0   5.85     0.0    0.0    2.06   8.16   2.46   \n",
       "2007-01-08   6.03  ...     0.0   5.95     0.0    0.0    2.08   8.10   2.42   \n",
       "\n",
       "            USIM5  VALE3  WEGE3  \n",
       "Date                             \n",
       "2007-01-02  14.70  20.51    0.0  \n",
       "2007-01-03  14.19  19.50    0.0  \n",
       "2007-01-04  14.02  19.19    0.0  \n",
       "2007-01-05  13.30  18.38    0.0  \n",
       "2007-01-08  13.43  19.07    0.0  \n",
       "\n",
       "[5 rows x 72 columns]"
      ]
     },
     "execution_count": 5,
     "metadata": {},
     "output_type": "execute_result"
    }
   ],
   "source": [
    "import pandas as pd\n",
    "from datetime import datetime\n",
    "\n",
    "df = pd.read_csv(\"data/IBOV.csv\")\n",
    "df[\"Date\"] = pd.to_datetime(df[\"Date\"], format=\"%Y%m%d\")\n",
    "df = df.set_index(\"Date\")\n",
    "\n",
    "df.head()"
   ]
  },
  {
   "cell_type": "markdown",
   "metadata": {},
   "source": [
    "**a.** Em 2019, quais as correlações média, mínima, máxima (e seus respectivos ativos)?"
   ]
  },
  {
   "cell_type": "code",
   "execution_count": 6,
   "metadata": {},
   "outputs": [
    {
     "name": "stdout",
     "output_type": "stream",
     "text": [
      "Média: 0.620138838185375\n",
      "Mínima: -0.69828216351592, ativo: BRKM5\n",
      "Máxima: 0.9997817683247827, ativo: BOVA11\n"
     ]
    }
   ],
   "source": [
    "df2019 = df[df.index.year == 2019]\n",
    "\n",
    "correlations_values_2019 = df2019.corr().drop(\"IBOV\")[\"IBOV\"]\n",
    "correlations_values_2019\n",
    "\n",
    "print(f\"Média: {correlations_values_2019.mean()}\")\n",
    "print(f\"Mínima: {correlations_values_2019.min()}, ativo: {correlations_values_2019.idxmin()}\")\n",
    "print(f\"Máxima: {correlations_values_2019.max()}, ativo: {correlations_values_2019.idxmax()}\")"
   ]
  },
  {
   "cell_type": "markdown",
   "metadata": {},
   "source": [
    "**b.** Em 2020, quais as correlações média, mínima, máxima (e seus respectivos ativos)?"
   ]
  },
  {
   "cell_type": "code",
   "execution_count": 7,
   "metadata": {},
   "outputs": [
    {
     "name": "stdout",
     "output_type": "stream",
     "text": [
      "Média: 0.8444562110652168\n",
      "Mínima: 0.24131523755089426, ativo: BTOW3\n",
      "Máxima: 0.9998947745052927, ativo: BOVA11\n"
     ]
    }
   ],
   "source": [
    "df2020 = df[df.index.year == 2020]\n",
    "\n",
    "correlations_values_2020 = df2020.corr().drop(\"IBOV\")[\"IBOV\"]\n",
    "correlations_values_2020\n",
    "\n",
    "print(f\"Média: {correlations_values_2020.mean()}\")\n",
    "print(f\"Mínima: {correlations_values_2020.min()}, ativo: {correlations_values_2020.idxmin()}\")\n",
    "print(f\"Máxima: {correlations_values_2020.max()}, ativo: {correlations_values_2020.idxmax()}\")"
   ]
  },
  {
   "cell_type": "markdown",
   "metadata": {},
   "source": [
    "**c.** Plote também dois histogramas com as correlações de todos os ativos com índice, um para 2019 e outro 2020.  Ajuste o eixo $X$ para mostrar de -1 a 1, e o eixo $Y$ para que seja igual para os dois casos. Qual interpretação você tira dessa análise?"
   ]
  },
  {
   "cell_type": "code",
   "execution_count": 8,
   "metadata": {},
   "outputs": [
    {
     "data": {
      "image/png": "[encoded data removed]",
      "text/plain": [
       "<Figure size 432x288 with 2 Axes>"
      ]
     },
     "metadata": {
      "needs_background": "light"
     },
     "output_type": "display_data"
    }
   ],
   "source": [
    "_, (ax1, ax2) = plt.subplots(nrows=1, ncols=2, sharey=True)\n",
    "\n",
    "ax1.hist(correlations_values_2019)\n",
    "ax1.set_title(\"2019\")\n",
    "ax1.set_xlabel(\"Correlação\")\n",
    "ax1.set_ylabel(\"Frequência\")\n",
    "\n",
    "ax2.hist(correlations_values_2020)\n",
    "ax2.set_title(\"2020\")\n",
    "ax2.set_xlabel(\"Correlação\")\n",
    "ax2.set_ylabel(\"Frequência\")\n",
    "\n",
    "plt.xlim(-1, 1)\n",
    "\n",
    "plt.show()"
   ]
  },
  {
   "cell_type": "markdown",
   "metadata": {},
   "source": [
    "Analisando os dois gráficos percebemos que em 2020 os valores de correlações são todos positivos, mas as correlações positivas mais fortes podem ser vistas com maior frequência em 2019."
   ]
  },
  {
   "cell_type": "markdown",
   "metadata": {},
   "source": [
    "## Questão 4\n",
    "\n",
    "A partir dos dados diários da Bovespa disponibilizados, obtenha os 250 retornos mais recentes (simbolizando mais ou menos 1 ano em dias úteis). Considere um portfolio igualmente distribuído nos ativos BOVA11,PETR4, ABEV3, SUZB3 e ITSA4. "
   ]
  },
  {
   "cell_type": "code",
   "execution_count": 9,
   "metadata": {},
   "outputs": [
    {
     "data": {
      "text/html": [
       "<div>\n",
       "<style scoped>\n",
       "    .dataframe tbody tr th:only-of-type {\n",
       "        vertical-align: middle;\n",
       "    }\n",
       "\n",
       "    .dataframe tbody tr th {\n",
       "        vertical-align: top;\n",
       "    }\n",
       "\n",
       "    .dataframe thead th {\n",
       "        text-align: right;\n",
       "    }\n",
       "</style>\n",
       "<table border=\"1\" class=\"dataframe\">\n",
       "  <thead>\n",
       "    <tr style=\"text-align: right;\">\n",
       "      <th></th>\n",
       "      <th>BOVA11</th>\n",
       "      <th>PETR4</th>\n",
       "      <th>ABEV3</th>\n",
       "      <th>SUZB3</th>\n",
       "      <th>ITSA4</th>\n",
       "      <th>Portfolio</th>\n",
       "    </tr>\n",
       "  </thead>\n",
       "  <tbody>\n",
       "    <tr>\n",
       "      <th>3112</th>\n",
       "      <td>99.05</td>\n",
       "      <td>24.89</td>\n",
       "      <td>20.10</td>\n",
       "      <td>30.40</td>\n",
       "      <td>12.15</td>\n",
       "      <td>37.318</td>\n",
       "    </tr>\n",
       "    <tr>\n",
       "      <th>3113</th>\n",
       "      <td>100.36</td>\n",
       "      <td>25.62</td>\n",
       "      <td>19.65</td>\n",
       "      <td>31.10</td>\n",
       "      <td>12.27</td>\n",
       "      <td>37.800</td>\n",
       "    </tr>\n",
       "    <tr>\n",
       "      <th>3114</th>\n",
       "      <td>100.24</td>\n",
       "      <td>25.55</td>\n",
       "      <td>19.56</td>\n",
       "      <td>30.46</td>\n",
       "      <td>12.21</td>\n",
       "      <td>37.604</td>\n",
       "    </tr>\n",
       "    <tr>\n",
       "      <th>3115</th>\n",
       "      <td>98.16</td>\n",
       "      <td>24.94</td>\n",
       "      <td>18.98</td>\n",
       "      <td>30.84</td>\n",
       "      <td>11.78</td>\n",
       "      <td>36.940</td>\n",
       "    </tr>\n",
       "    <tr>\n",
       "      <th>3116</th>\n",
       "      <td>99.52</td>\n",
       "      <td>25.27</td>\n",
       "      <td>18.88</td>\n",
       "      <td>32.65</td>\n",
       "      <td>12.08</td>\n",
       "      <td>37.680</td>\n",
       "    </tr>\n",
       "  </tbody>\n",
       "</table>\n",
       "</div>"
      ],
      "text/plain": [
       "      BOVA11  PETR4  ABEV3  SUZB3  ITSA4  Portfolio\n",
       "3112   99.05  24.89  20.10  30.40  12.15     37.318\n",
       "3113  100.36  25.62  19.65  31.10  12.27     37.800\n",
       "3114  100.24  25.55  19.56  30.46  12.21     37.604\n",
       "3115   98.16  24.94  18.98  30.84  11.78     36.940\n",
       "3116   99.52  25.27  18.88  32.65  12.08     37.680"
      ]
     },
     "metadata": {},
     "output_type": "display_data"
    }
   ],
   "source": [
    "stocks = [\"BOVA11\", \"PETR4\", \"ABEV3\", \"SUZB3\", \"ITSA4\"]\n",
    "\n",
    "df = pd.read_csv(\"data/IBOV.csv\")\n",
    "df[\"Date\"] = pd.to_datetime(df[\"Date\"], format=\"%Y%m%d\")\n",
    "df = df[stocks].tail(250)\n",
    "\n",
    "df[\"Portfolio\"] = df.mean(axis=1)\n",
    "display(df.head())"
   ]
  },
  {
   "cell_type": "markdown",
   "metadata": {},
   "source": [
    "Complete a tabela abaixo:"
   ]
  },
  {
   "cell_type": "code",
   "execution_count": 10,
   "metadata": {},
   "outputs": [
    {
     "data": {
      "text/html": [
       "<div>\n",
       "<style scoped>\n",
       "    .dataframe tbody tr th:only-of-type {\n",
       "        vertical-align: middle;\n",
       "    }\n",
       "\n",
       "    .dataframe tbody tr th {\n",
       "        vertical-align: top;\n",
       "    }\n",
       "\n",
       "    .dataframe thead th {\n",
       "        text-align: right;\n",
       "    }\n",
       "</style>\n",
       "<table border=\"1\" class=\"dataframe\">\n",
       "  <thead>\n",
       "    <tr style=\"text-align: right;\">\n",
       "      <th></th>\n",
       "      <th>Asset</th>\n",
       "      <th>Expected Return</th>\n",
       "      <th>Std. deviation</th>\n",
       "      <th>Skewnees</th>\n",
       "      <th>Kurtois</th>\n",
       "      <th>VaR 5%</th>\n",
       "    </tr>\n",
       "  </thead>\n",
       "  <tbody>\n",
       "    <tr>\n",
       "      <th>0</th>\n",
       "      <td>BOVA11</td>\n",
       "      <td>0.103951</td>\n",
       "      <td>12.999211</td>\n",
       "      <td>-0.722211</td>\n",
       "      <td>-0.403539</td>\n",
       "      <td>-0.036787</td>\n",
       "    </tr>\n",
       "    <tr>\n",
       "      <th>1</th>\n",
       "      <td>PETR4</td>\n",
       "      <td>0.156659</td>\n",
       "      <td>5.161542</td>\n",
       "      <td>-0.613684</td>\n",
       "      <td>-0.678926</td>\n",
       "      <td>-0.039129</td>\n",
       "    </tr>\n",
       "    <tr>\n",
       "      <th>2</th>\n",
       "      <td>ABEV3</td>\n",
       "      <td>-0.324205</td>\n",
       "      <td>2.709840</td>\n",
       "      <td>-0.337875</td>\n",
       "      <td>-1.412050</td>\n",
       "      <td>-0.040954</td>\n",
       "    </tr>\n",
       "    <tr>\n",
       "      <th>3</th>\n",
       "      <td>SUZB3</td>\n",
       "      <td>0.568452</td>\n",
       "      <td>4.550136</td>\n",
       "      <td>-0.194252</td>\n",
       "      <td>-0.043587</td>\n",
       "      <td>-0.050224</td>\n",
       "    </tr>\n",
       "    <tr>\n",
       "      <th>4</th>\n",
       "      <td>ITSA4</td>\n",
       "      <td>-0.074005</td>\n",
       "      <td>1.724307</td>\n",
       "      <td>-0.433160</td>\n",
       "      <td>-1.253511</td>\n",
       "      <td>-0.045359</td>\n",
       "    </tr>\n",
       "    <tr>\n",
       "      <th>5</th>\n",
       "      <td>Portfolio</td>\n",
       "      <td>0.113385</td>\n",
       "      <td>4.623736</td>\n",
       "      <td>-0.616034</td>\n",
       "      <td>-0.211960</td>\n",
       "      <td>-0.027575</td>\n",
       "    </tr>\n",
       "  </tbody>\n",
       "</table>\n",
       "</div>"
      ],
      "text/plain": [
       "       Asset  Expected Return  Std. deviation  Skewnees   Kurtois    VaR 5%\n",
       "0     BOVA11         0.103951       12.999211 -0.722211 -0.403539 -0.036787\n",
       "1      PETR4         0.156659        5.161542 -0.613684 -0.678926 -0.039129\n",
       "2      ABEV3        -0.324205        2.709840 -0.337875 -1.412050 -0.040954\n",
       "3      SUZB3         0.568452        4.550136 -0.194252 -0.043587 -0.050224\n",
       "4      ITSA4        -0.074005        1.724307 -0.433160 -1.253511 -0.045359\n",
       "5  Portfolio         0.113385        4.623736 -0.616034 -0.211960 -0.027575"
      ]
     },
     "execution_count": 10,
     "metadata": {},
     "output_type": "execute_result"
    }
   ],
   "source": [
    "results = pd.DataFrame(columns=[\"Asset\", \"Expected Return\", \"Std. deviation\", \"Skewnees\", \"Kurtois\", \"VaR 5%\"])\n",
    "\n",
    "for stock in stocks + [\"Portfolio\"]:\n",
    "    r = df[stock].pct_change().dropna()\n",
    "    er = r.sum()\n",
    "    std = df[stock].std()\n",
    "    ske = df[stock].skew()\n",
    "    kur = df[stock].kurtosis()\n",
    "    var = r.quantile(0.05)\n",
    "    \n",
    "    results = results.append({\n",
    "        \"Asset\": stock, \n",
    "        \"Expected Return\": er, \n",
    "        \"Std. deviation\": std, \n",
    "        \"Skewnees\": ske, \n",
    "        \"Kurtois\": kur, \n",
    "        \"VaR 5%\": var\n",
    "    }, ignore_index=True)\n",
    "    \n",
    "    \n",
    "results"
   ]
  },
  {
   "cell_type": "markdown",
   "metadata": {},
   "source": [
    "Tanto faz usar o desvio padrão da amostra ou da população. Para o Value-at-Risk $5\\%$, considere o caso não paramétrico. O $VaR$ não paramétrico não supõe nenhuma distribuição para os retornos, apenas assume que os dados históricos representam uma distribuição discreta dos possíveis retornos futuros, todos com probabilidades iguais, e calcula o $VaR$ a partir destes dados. Além da tabela, discuta alguns aspectos:\n",
    "\n",
    "- Ao calcular o $VaR$ você verá que a resposta não é tão óbvia. Explique como você definiu o valor a ser utilizado.\n",
    "- O que os valores da curtose sugerem.\n",
    "- Como o portfolio se compara com o ativos individuais em relação ao risco esperado."
   ]
  }
 ],
 "metadata": {
  "kernelspec": {
   "display_name": "Python 3",
   "language": "python",
   "name": "python3"
  },
  "language_info": {
   "codemirror_mode": {
    "name": "ipython",
    "version": 3
   },
   "file_extension": ".py",
   "mimetype": "text/x-python",
   "name": "python",
   "nbconvert_exporter": "python",
   "pygments_lexer": "ipython3",
   "version": "3.8.5"
  }
 },
 "nbformat": 4,
 "nbformat_minor": 4
}
