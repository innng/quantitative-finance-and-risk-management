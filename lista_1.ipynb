{
 "cells": [
  {
   "cell_type": "markdown",
   "metadata": {},
   "source": [
    "# Lista 1"
   ]
  },
  {
   "cell_type": "markdown",
   "metadata": {},
   "source": [
    "## Questão 1\n",
    "\n",
    "Considere uma ação cujo preco atual é $R\\$100$. Analistas financeiros concluíram que há duas possibilidades de preço ao final do próximo mês: $R\\$105$ e $R\\$95$, ambos cenários com probabilidade de $50\\%$. Existe a possibilidade de comprar uma opcão de compra desta ação com preço de exercício de $R\\$102$ ao final do mês. Atualmente a opção custa $R\\$1.60$.\n",
    "\n",
    "**a.** Considerando uma taxa livre de risco de $0\\%$ ao mês, você compraria esta opção? Por quê?\n",
    "\n",
    "**b.** Se a taxa de livre de risco for $1\\%$ sua decisão mudaria?"
   ]
  },
  {
   "cell_type": "markdown",
   "metadata": {},
   "source": [
    "**LETRA A** \n",
    "\n",
    "Calcular valor justo da opção desconsiderando taxa livre de risco. Fazer short de uma opção:\n",
    "\n",
    "$portfolio = 0 (dinheiro\\ atual) + P(o,t) (preço\\ da\\ opção) - 100 * delta (valor\\ atual\\ da\\ ação\\ devido) + 100 * delta (dinheiro\\ em\\ caixa)$\n",
    "\n",
    "Se em t + 1 ação valer 105 --> exercemos a opção de compra a 102 e temos lucro na venda a 105 de 3 reais:\n",
    "\n",
    "$portfolio = - 105 * delta + 100 * delta + 3$\n",
    "\n",
    "Se em t + 1 ação valer 95 --> não exercemos a opção de compra:\n",
    "\n",
    "$portfolio = - 95 * delta + 100 * delta$\n",
    "\n",
    "Comparando 2 portfolios para encontrar delta, temos:\n",
    "\n",
    "$- 105 * delta + 100 * delta + 3 = - 95 * delta + 100 * delta$\n",
    "\n",
    "$- 105 * delta + 3 = - 95 * delta$\n",
    "\n",
    "$10 * delta = 3$\n",
    "\n",
    "$delta = 0.3$\n",
    "\n",
    "**Reposta:** Recalculando os portfolios percebe-se que a opção de compra deveria valer até $R\\$=1.50$ no mês atual para que ela contine, pelo menos, valendo o mesmo no próximo mês. Como a opção custa $R\\$=1.60$, eu não compraria a opção."
   ]
  },
  {
   "cell_type": "markdown",
   "metadata": {},
   "source": [
    "**LETRA B**\n",
    "\n",
    "a"
   ]
  },
  {
   "cell_type": "markdown",
   "metadata": {},
   "source": [
    "## Questão 2\n",
    "\n",
    "Considere uma roleta em um cassino que possui números de 1 a 30.  Ao jogar n. esta roleta, suponha que uma pessoa escolha um número ímpar e faça sua aposta. Se o crupiê girar a roleta e obtiver um número par, a pessoa perde todo o valor apostado. Se a bolinha parar em um número ímpar, mas diferente daquele escolhido, a pessoa perde metade do valor apostado. Caso a pessoa acerte o número sorteado, ela recebe 50 vezes o valor apostado. O mesmo raciocínio vale se a pessoa escolher um número par. \n",
    "\n",
    "Suponha  que esta pessoa possua um capital  disponível $M$, seja viciada em jogos e possua todo o tempo do mundo, isto é, está disposta a apostar na roleta infinitamente.\n",
    "\n",
    "**a.**  Qual porcentagem ideal de $M$ que ela deve apostar de forma a maximizar o retorno esperado deste jogo?  Qual é este retorno esperado?\n",
    "\n",
    "**b.**  O que vai acontecer na prática se ela apostar a proporção obtida acima?\n",
    "\n",
    "**c.**  Qual é aproximadamente a proporção de $M$ que deve ser apostada repetidamente de forma a maximizar os lucros obtidos? \n",
    "\n",
    "Não é necessário resolver na letra **(c)** o problema de maximização, apenas achar um valor aproximado."
   ]
  },
  {
   "cell_type": "code",
   "execution_count": null,
   "metadata": {},
   "outputs": [],
   "source": []
  },
  {
   "cell_type": "markdown",
   "metadata": {},
   "source": [
    "## Questão 3\n",
    "\n",
    "Considere os preços diários de todos os ativos disponibilizados em 2020 e, separadamente, em 2019 (do primeiro dia de 2019 ao primeiro dia de 2020). Calcule as correlações de cada ativo com o índice IBOV tanto em 2019 quanto em 2020.\n",
    "\n",
    "**a.** Em 2019, quais as correlações média, mínima, máxima (e seus respectivos ativos)?\n",
    "\n",
    "**b.** Em 2020, quais as correlações média, mínima, máxima (e seus respectivos ativos)?\n",
    "\n",
    "**c.** Plote também dois histogramas com as correlações de todos os ativos com índice, um para 2019 e outro 2020.  Ajuste o eixo $X$ para mostrar de -1 a 1, e o eixo $Y$ para que seja igual para os dois casos. Qual interpretação você tira dessa análise?\n",
    "\n",
    "Para referência, a correlação entre os retornos do IBOV e ITUB4 em 2019 (até o $1o$ dia de 2020) foi de $0.7412$. O objetivo principal desta questão é se familiarizar com os dados fornecidos."
   ]
  },
  {
   "cell_type": "code",
   "execution_count": null,
   "metadata": {},
   "outputs": [],
   "source": []
  },
  {
   "cell_type": "markdown",
   "metadata": {},
   "source": [
    "## Questão 4\n",
    "\n",
    "A partir dos dados diários da Bovespa disponibilizados, obtenha os 250 retornos mais recentes (simbolizando mais ou menos 1 ano em dias úteis). Considere um portfolio igualmente distribuído nos ativos BOVA11,PETR4, ABEV3, SUZB3 e ITSA4. Complete a tabela abaixo:"
   ]
  },
  {
   "cell_type": "markdown",
   "metadata": {},
   "source": [
    "| Asset     | Expected Return | Std. deviation | Skewnees | Kurtois | VaR 5% |\n",
    "|-----------|-----------------|----------------|----------|---------|--------|\n",
    "| BOVA11    |                 |                |          |         |        |\n",
    "| PETR4     |                 |                |          |         |        |\n",
    "| ABEV3     |                 |                |          |         |        |\n",
    "| SUZB3     |                 |                |          |         |        |\n",
    "| ITSA4     |                 |                |          |         |        |\n",
    "| Portfolio |                 |                |          |         |        |"
   ]
  },
  {
   "cell_type": "markdown",
   "metadata": {},
   "source": [
    "Tanto faz usar o desvio padrão da amostra ou da população. Para o Value-at-Risk $5\\%$, considere o caso não paramétrico. O $VaR$ não paramétrico não supõe nenhuma distribuição para os retornos, apenas assume que os dados históricos representam uma distribuição discreta dos possíveis retornos futuros, todos com probabilidades iguais, e calcula o $VaR$ a partir destes dados. Além da tabela, discuta alguns aspectos:\n",
    "\n",
    "- Ao calcular o $VaR$ você verá que a resposta não é tão óbvia. Explique como você definiu o valor a ser utilizado.\n",
    "- O que os valores da curtose sugerem.\n",
    "- Como o portfolio se compara com o ativos individuais em relação ao risco esperado."
   ]
  },
  {
   "cell_type": "code",
   "execution_count": null,
   "metadata": {},
   "outputs": [],
   "source": []
  }
 ],
 "metadata": {
  "kernelspec": {
   "display_name": "Python 3",
   "language": "python",
   "name": "python3"
  },
  "language_info": {
   "codemirror_mode": {
    "name": "ipython",
    "version": 3
   },
   "file_extension": ".py",
   "mimetype": "text/x-python",
   "name": "python",
   "nbconvert_exporter": "python",
   "pygments_lexer": "ipython3",
   "version": "3.8.5"
  }
 },
 "nbformat": 4,
 "nbformat_minor": 4
}
